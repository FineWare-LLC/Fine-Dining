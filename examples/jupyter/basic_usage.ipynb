{
 "cells": [
  {
   "cell_type": "markdown",
   "metadata": {},
   "source": "# HighsModel Example\nThis notebook demonstrates how to create a simple LP."
  },
  {
   "cell_type": "code",
   "metadata": {},
   "execution_count": null,
   "outputs": [],
   "source": "from bindings.python.highs_model import HighsModel\n\nmodel = HighsModel()\nx1 = model.add_variable(cost=1, lower=0)\nx2 = model.add_variable(cost=2, lower=0)\n\n# x1 + x2 >= 1\nmodel.add_constraint({x1: 1, x2: 1}, lower=1)\n\nprint(model)"
  }
 ],
 "metadata": {},
 "nbformat": 4,
 "nbformat_minor": 2
}
