{
 "cells": [
  {"cell_type": "markdown", "metadata": {}, "source": "# Solving with HighsModel\nThis shows solving if `highspy` is installed."},
  {"cell_type": "code", "metadata": {}, "execution_count": null, "outputs": [], "source": "from bindings.python.highs_model import HighsModel\n\nmodel = HighsModel()\nx = model.add_variable(cost=1, lower=0)\ny = model.add_variable(cost=1, lower=0)\nmodel.add_constraint({x:1, y:1}, lower=1)\n\ntry:\n    sol = model.solve()\n    print('Objective:', sol.objective_value)\n    print('x =', sol.col_value[x], 'y =', sol.col_value[y])\nexcept ImportError:\n    print('highspy not installed; cannot solve.')"}
 ],
 "metadata": {},
 "nbformat": 4,
 "nbformat_minor": 2
}
